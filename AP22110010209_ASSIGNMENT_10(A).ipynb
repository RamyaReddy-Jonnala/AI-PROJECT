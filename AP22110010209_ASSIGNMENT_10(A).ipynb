{
 "cells": [
  {
   "cell_type": "code",
   "execution_count": 1,
   "id": "37022676-a899-4c69-b090-18e43d8703a6",
   "metadata": {},
   "outputs": [
    {
     "name": "stdout",
     "output_type": "stream",
     "text": [
      "Generation 1: Best Fitness = 0.3333333333333333\n",
      "Generation 2: Best Fitness = 0.3333333333333333\n",
      "Generation 3: Best Fitness = 0.3333333333333333\n",
      "Generation 4: Best Fitness = 0.5\n",
      "Generation 5: Best Fitness = 0.5\n",
      "Best Schedule:\n",
      "[0, 1]\n",
      "[0, 1]\n",
      "[0, 1]\n"
     ]
    }
   ],
   "source": [
    "import random\n",
    "NUM_JOBS = 3\n",
    "NUM_MACHINES = 2\n",
    "POPULATION_SIZE = 4\n",
    "GENERATIONS = 5\n",
    "MUTATION_RATE = 0.1\n",
    "CROSSOVER_RATE = 0.8\n",
    "JOB_TIMES = [2, 3, 1]\n",
    "def create_chromosome():\n",
    "    return [[random.randint(0, 1) for _ in range(NUM_MACHINES)] for _ in range(NUM_JOBS)]\n",
    "def fitness(chromosome):\n",
    "    machine_times = [0] * NUM_MACHINES\n",
    "    for job in range(NUM_JOBS):\n",
    "        for machine in range(NUM_MACHINES):\n",
    "            if chromosome[job][machine]:\n",
    "                machine_times[machine] += JOB_TIMES[job]\n",
    "    return 1 / max(machine_times)\n",
    "def crossover(parent1, parent2):\n",
    "    if random.random() < CROSSOVER_RATE:\n",
    "        point1 = random.randint(0, NUM_JOBS - 1)\n",
    "        point2 = random.randint(point1, NUM_JOBS)\n",
    "        child1 = parent1[:point1] + parent2[point1:point2] + parent1[point2:]\n",
    "        child2 = parent2[:point1] + parent1[point1:point2] + parent2[point2:]\n",
    "        return child1, child2\n",
    "    return parent1, parent2\n",
    "def mutate(chromosome):\n",
    "    for job in range(NUM_JOBS):\n",
    "        for machine in range(NUM_MACHINES):\n",
    "            if random.random() < MUTATION_RATE:\n",
    "                chromosome[job][machine] = 1 - chromosome[job][machine]\n",
    "    return chromosome\n",
    "def select_population(population, fitness_scores):\n",
    "    total_fitness = sum(fitness_scores)\n",
    "    probabilities = [score / total_fitness for score in fitness_scores]\n",
    "    return random.choices(population, weights=probabilities, k=POPULATION_SIZE)\n",
    "def genetic_algorithm():\n",
    "    population = [create_chromosome() for _ in range(POPULATION_SIZE)]\n",
    "    for generation in range(GENERATIONS):\n",
    "        fitness_scores = [fitness(chromosome) for chromosome in population]\n",
    "        selected_population = select_population(population, fitness_scores)\n",
    "        new_population = []\n",
    "        for i in range(0, POPULATION_SIZE, 2):\n",
    "            parent1, parent2 = selected_population[i], selected_population[i + 1]\n",
    "            child1, child2 = crossover(parent1, parent2)\n",
    "            new_population.extend([mutate(child1), mutate(child2)])     \n",
    "        population = new_population\n",
    "        best_fitness = max(fitness_scores)\n",
    "        print(f\"Generation {generation + 1}: Best Fitness = {best_fitness}\")\n",
    "    best_index = fitness_scores.index(max(fitness_scores))\n",
    "    return population[best_index]\n",
    "best_schedule = genetic_algorithm()\n",
    "print(\"Best Schedule:\")\n",
    "for job in best_schedule:\n",
    "    print(job)"
   ]
  },
  {
   "cell_type": "code",
   "execution_count": null,
   "id": "d0e61bae-ebc2-4937-88fb-d6bae9f4a63a",
   "metadata": {},
   "outputs": [],
   "source": []
  }
 ],
 "metadata": {
  "kernelspec": {
   "display_name": "Python 3 (ipykernel)",
   "language": "python",
   "name": "python3"
  },
  "language_info": {
   "codemirror_mode": {
    "name": "ipython",
    "version": 3
   },
   "file_extension": ".py",
   "mimetype": "text/x-python",
   "name": "python",
   "nbconvert_exporter": "python",
   "pygments_lexer": "ipython3",
   "version": "3.12.4"
  }
 },
 "nbformat": 4,
 "nbformat_minor": 5
}
